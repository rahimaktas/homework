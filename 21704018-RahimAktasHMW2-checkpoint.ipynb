{
 "cells": [
  {
   "cell_type": "code",
   "execution_count": 1,
   "metadata": {},
   "outputs": [
    {
     "name": "stdout",
     "output_type": "stream",
     "text": [
      "Lütfen 1 , 2 , 3 sayılardan birini giriniz: 1\n",
      "seçtiğiniz işlem de hipotenüs hesaplanacaktır: \n",
      "ilk kenearı giriniz: 4\n",
      "ikinci kenari giriniz: 3\n",
      "hipotenüs: 5.0\n"
     ]
    }
   ],
   "source": [
    "x = float(input(\"Lütfen 1 , 2 , 3 sayılardan birini giriniz: \"))\n",
    "\n",
    "if x==1:\n",
    "    print(\"seçtiğiniz işlem de hipotenüs hesaplanacaktır: \")\n",
    "    a = float(input(\"ilk kenearı giriniz: \"))\n",
    "    b = float(input(\"ikinci kenari giriniz: \"))\n",
    "    hipotenüs=((a**2+b**2)**0.5)\n",
    "    print(\"hipotenüs:\",hipotenüs)\n",
    "elif x==2:\n",
    "    print(\"bu ekranda giridiğiniz sayı sıralaması 1 den baslayıp ekranda görülecektir: \")\n",
    "    X=int(input(\"herhangi bir numara giriniz: \"))\n",
    "    a=1\n",
    "    while(a<=X):\n",
    "        print(a)\n",
    "        a=a+1\n",
    "elif x==3:\n",
    "    print(\"bu kısımda giridiğiğiniz 6 sayının aritmetik ortalaması alınacaktır\")\n",
    "    A = float(input(\"ilk rakamı giriniz: \")) \n",
    "    B = float(input(\"ikinci rakamı giriniz: \"))\n",
    "    C = float(input(\"üçüncü rakamı giriniz: \"))\n",
    "    X = float(input(\"dördüncü rakamı giriniz: \"))\n",
    "    Y = float(input(\"beşinci rakamı giriniz: \"))\n",
    "    Z = float(input(\"altıncı rakamı giriniz: \"))\n",
    "    ortalama=(A+B+C+X+Y+Z)/6\n",
    "    print(\"ortalama:\",ortalama)\n",
    "    \n",
    "else:\n",
    "    print(\"HATA!HATA! Lutfen 1,2,3 sayılardan biri ile giriş yapınız\")"
   ]
  },
  {
   "cell_type": "code",
   "execution_count": null,
   "metadata": {},
   "outputs": [],
   "source": []
  }
 ],
 "metadata": {
  "kernelspec": {
   "display_name": "Python 3",
   "language": "python",
   "name": "python3"
  },
  "language_info": {
   "codemirror_mode": {
    "name": "ipython",
    "version": 3
   },
   "file_extension": ".py",
   "mimetype": "text/x-python",
   "name": "python",
   "nbconvert_exporter": "python",
   "pygments_lexer": "ipython3",
   "version": "3.7.0"
  }
 },
 "nbformat": 4,
 "nbformat_minor": 2
}
